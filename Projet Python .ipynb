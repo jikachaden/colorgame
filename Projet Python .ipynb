{
 "cells": [
  {
   "cell_type": "code",
   "execution_count": 1,
   "metadata": {},
   "outputs": [],
   "source": [
    "from tkinter import *\n",
    "import tkinter.font as font\n",
    "import random\n",
    "import time\n"
   ]
  },
  {
   "cell_type": "code",
   "execution_count": 2,
   "metadata": {},
   "outputs": [],
   "source": [
    "Couleur_dictionnaire =[\"pink\",\"red\",\"black\",\"purple\",\"blue\",\"green\",\"yellow\",\"orange\"]\n",
    "Couleur_dictionnaire_fr =[\"rose\",\"rouge\",\"noir\",\"violet\",\"bleu\",\"vert\",\"jaune\",\"orange\"]"
   ]
  },
  {
   "cell_type": "code",
   "execution_count": 3,
   "metadata": {},
   "outputs": [],
   "source": [
    "def reset():\n",
    "    temps_restant=0\n",
    "    score = 0\n",
    "    mot=\"Appuyer sur le bouton debuter pour demarrer la partie\"\n",
    "    couleur=\"black\"\n",
    "    Mot.config(text=mot, fg=couleur) \n",
    "    Reponse.delete(0, END) \n",
    "    Score.config(text=str(score))\n",
    "    Temps.config(text=temps_restant)"
   ]
  },
  {
   "cell_type": "code",
   "execution_count": 4,
   "metadata": {},
   "outputs": [],
   "source": [
    "def start():\n",
    "    temps_restant=20\n",
    "    Temps.config(text=temps_restant)\n",
    "    Votre_Temps.config(text=\"Temps restant\")\n",
    "    mot=random.choice(Couleur_dictionnaire)\n",
    "    couleur=random.choice(Couleur_dictionnaire)\n",
    "    Mot.config(text=Couleur_dictionnaire_fr[Couleur_dictionnaire.index(mot)],fg = couleur)\n",
    "    timer()\n",
    "    Reponse.bind('<Return>', afficher_couleur)"
   ]
  },
  {
   "cell_type": "code",
   "execution_count": 5,
   "metadata": {},
   "outputs": [],
   "source": [
    "def afficher_couleur(event):\n",
    "    couleur = Mot.cget(\"fg\") \n",
    "    score=Score.cget(\"text\")\n",
    "    temps_restant=int(Temps.cget(\"text\")) \n",
    "    if (temps_restant > 0): \n",
    "        if(Reponse.get().lower() == Couleur_dictionnaire_fr[Couleur_dictionnaire.index(couleur)]): \n",
    "            score=int(score)\n",
    "            score+=1\n",
    "            Score.config(text=str(score)) \n",
    "            Reponse.delete(0, END) \n",
    "            mot=random.choice(Couleur_dictionnaire) \n",
    "            couleur=random.choice(Couleur_dictionnaire)\n",
    "            Mot.config(text=Couleur_dictionnaire_fr[Couleur_dictionnaire.index(mot)],fg = couleur)\n"
   ]
  },
  {
   "cell_type": "code",
   "execution_count": 6,
   "metadata": {},
   "outputs": [],
   "source": [
    "def timer(): \n",
    "    temps_restant=int(Temps.cget(\"text\")) \n",
    "    if(temps_restant>0):  \n",
    "        temps_restant-=1\n",
    "        Temps.config(text=temps_restant)\n",
    "        Temps.after(1000,timer) \n",
    "    else:\n",
    "        Votre_Temps.config(text=\"Termine\")"
   ]
  },
  {
   "cell_type": "code",
   "execution_count": 7,
   "metadata": {},
   "outputs": [],
   "source": [
    "couleur_du_jeu=\"\" \n",
    "for _ in Couleur_dictionnaire_fr: \n",
    "    couleur_du_jeu+=_+\" \" \n",
    "Fenetre_de_jeu = Tk()\n",
    "Fenetre_de_jeu.title(\"Projet python : Ecris la couleur\")\n",
    "Fenetre_de_jeu.configure(bg='grey94')\n",
    "Police = font.Font(family='Arial', size = 12)\n",
    "Police1 = font.Font(family='Arial')\n",
    "Couleur = Label(Fenetre_de_jeu, text = \"Couleur presente dans le jeu : \" +couleur_du_jeu ,font = (font.Font(size=10)), fg = \"black\")\n",
    "Couleur.grid(row=4, column=2)\n",
    "Votre_score = Label(Fenetre_de_jeu, text = \"Votre score : \", font = (font.Font(size=16)), fg = \"black\")\n",
    "Votre_score.grid(row=0, column=2)\n",
    "Score = Label(Fenetre_de_jeu, text = \"0\", font = (font.Font(size=16)), fg = \"black\")\n",
    "Score.grid(row=0, column=3)\n",
    "Mot = Label(Fenetre_de_jeu ,text = \"Appuyer sur le bouton debuter pour demarrer la partie\", fg=\"black\", font = (font.Font(size=13)), pady = 10) #zone de texte defini grâce a \"Label\"\n",
    "Mot.grid(row=1, column=2)\n",
    "Votre_Temps = Label(Fenetre_de_jeu, text = \"Temps restant : \", font = (font.Font(size=14)), fg = \"black\")\n",
    "Votre_Temps.grid(row=2, column=2)\n",
    "Temps = Label(Fenetre_de_jeu, text = \"20\", font = (font.Font(size=14)), fg = \"black\")\n",
    "Temps.grid(row=2, column=3)\n",
    "Reponse = Entry(Fenetre_de_jeu, width = 30) \n",
    "Reponse.grid(row=3, column=2)\n",
    "Debuter = Button(Fenetre_de_jeu, text = \"Debuter\", width = 10, fg = \"black\", bg = \"lime green\", bd = 10,padx = 15, pady = 10,command=start )\n",
    "Debuter.grid(row=0, column= 0,pady=5,padx=10) \n",
    "Recommencer = Button(Fenetre_de_jeu, text = \"Recommencer\", width = 10, fg = \"black\", bg = \"red\", bd = 10,padx = 15, pady = 10, command=reset )\n",
    "Recommencer.grid(row=3, column=0 ,pady=5,padx=10)\n",
    "Fenetre_de_jeu.geometry('700x250') \n",
    "Fenetre_de_jeu.mainloop()"
   ]
  }
 ],
 "metadata": {
  "kernelspec": {
   "display_name": "Python 3",
   "language": "python",
   "name": "python3"
  },
  "language_info": {
   "codemirror_mode": {
    "name": "ipython",
    "version": 3
   },
   "file_extension": ".py",
   "mimetype": "text/x-python",
   "name": "python",
   "nbconvert_exporter": "python",
   "pygments_lexer": "ipython3",
   "version": "3.8.5"
  }
 },
 "nbformat": 4,
 "nbformat_minor": 4
}
